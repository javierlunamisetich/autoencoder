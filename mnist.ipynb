{
 "cells": [
  {
   "cell_type": "markdown",
   "metadata": {},
   "source": [
    "# Let's make a simple autoenconder for Mnist dataset\n",
    "*based on this https://blog.keras.io/building-autoencoders-in-keras.html"
   ]
  },
  {
   "cell_type": "markdown",
   "metadata": {},
   "source": [
    "## Prepare the autoencoder\n",
    "We'll start simple, with a single fully-connected neural layer as encoder and as decoder:\n",
    "\n"
   ]
  },
  {
   "cell_type": "code",
   "execution_count": 1,
   "metadata": {},
   "outputs": [
    {
     "name": "stderr",
     "output_type": "stream",
     "text": [
      "Using TensorFlow backend.\n"
     ]
    }
   ],
   "source": [
    "import keras\n",
    "from keras import layers\n",
    "\n",
    "# This is the size of our encoded representations\n",
    "encoding_dim = 32  # 32 floats -> compression of factor 24.5, assuming the input is 784 floats\n",
    "\n",
    "# This is our input image\n",
    "input_img = keras.Input(shape=(784,))\n",
    "# \"encoded\" is the encoded representation of the input\n",
    "encoded = layers.Dense(encoding_dim, activation='relu')(input_img)\n",
    "# \"decoded\" is the lossy reconstruction of the input\n",
    "decoded = layers.Dense(784, activation='sigmoid')(encoded)\n",
    "\n",
    "# This model maps an input to its reconstruction\n",
    "autoencoder = keras.Model(input_img, decoded)"
   ]
  },
  {
   "cell_type": "markdown",
   "metadata": {},
   "source": [
    "Let's also create a separate encoder model:\n",
    "\n"
   ]
  },
  {
   "cell_type": "code",
   "execution_count": 2,
   "metadata": {},
   "outputs": [],
   "source": [
    "# This model maps an input to its encoded representation\n",
    "encoder = keras.Model(input_img, encoded)"
   ]
  },
  {
   "cell_type": "markdown",
   "metadata": {},
   "source": [
    "As well as the decoder model:\n",
    "\n"
   ]
  },
  {
   "cell_type": "code",
   "execution_count": 3,
   "metadata": {},
   "outputs": [],
   "source": [
    "# This is our encoded (32-dimensional) input\n",
    "encoded_input = keras.Input(shape=(encoding_dim,))\n",
    "# Retrieve the last layer of the autoencoder model\n",
    "decoder_layer = autoencoder.layers[-1]\n",
    "# Create the decoder model\n",
    "decoder = keras.Model(encoded_input, decoder_layer(encoded_input))"
   ]
  },
  {
   "cell_type": "markdown",
   "metadata": {},
   "source": [
    "Now let's train our autoencoder to reconstruct MNIST digits.\n",
    "\n",
    "First, we'll configure our model to use a per-pixel binary crossentropy loss, and the Adam optimizer:"
   ]
  },
  {
   "cell_type": "code",
   "execution_count": 4,
   "metadata": {},
   "outputs": [
    {
     "name": "stdout",
     "output_type": "stream",
     "text": [
      "WARNING:tensorflow:From C:\\Users\\HL637BA\\AppData\\Local\\Continuum\\anaconda3\\envs\\tensorflow_cpu\\lib\\site-packages\\tensorflow_core\\python\\ops\\nn_impl.py:183: where (from tensorflow.python.ops.array_ops) is deprecated and will be removed in a future version.\n",
      "Instructions for updating:\n",
      "Use tf.where in 2.0, which has the same broadcast rule as np.where\n"
     ]
    }
   ],
   "source": [
    "#compile the autoencoder\n",
    "autoencoder.compile(optimizer='adam', loss='binary_crossentropy')\n"
   ]
  },
  {
   "cell_type": "markdown",
   "metadata": {},
   "source": [
    "## Get the data"
   ]
  },
  {
   "cell_type": "markdown",
   "metadata": {},
   "source": [
    "Let's prepare our input data. We're using MNIST digits, and we're discarding the labels (since we're only interested in encoding/decoding the input images).\n",
    "\n"
   ]
  },
  {
   "cell_type": "code",
   "execution_count": 5,
   "metadata": {},
   "outputs": [],
   "source": [
    "from keras.datasets import mnist\n",
    "import numpy as np\n",
    "(x_train, _), (x_test, _) = mnist.load_data() #ylabels are not necessary, we want to compare to themselves"
   ]
  },
  {
   "cell_type": "markdown",
   "metadata": {},
   "source": [
    "We will normalize all values between 0 and 1 and we will flatten the 28x28 images into vectors of size 784.\n",
    "\n"
   ]
  },
  {
   "cell_type": "code",
   "execution_count": 6,
   "metadata": {},
   "outputs": [
    {
     "name": "stdout",
     "output_type": "stream",
     "text": [
      "(60000, 784)\n",
      "(10000, 784)\n"
     ]
    }
   ],
   "source": [
    "x_train = x_train.astype('float32') / 255.\n",
    "x_test = x_test.astype('float32') / 255.\n",
    "x_train = x_train.reshape((len(x_train), np.prod(x_train.shape[1:])))\n",
    "x_test = x_test.reshape((len(x_test), np.prod(x_test.shape[1:])))\n",
    "print(x_train.shape)\n",
    "print(x_test.shape)"
   ]
  },
  {
   "cell_type": "markdown",
   "metadata": {},
   "source": [
    "## Train the model"
   ]
  },
  {
   "cell_type": "code",
   "execution_count": 7,
   "metadata": {},
   "outputs": [
    {
     "name": "stdout",
     "output_type": "stream",
     "text": [
      "Train on 60000 samples, validate on 10000 samples\n",
      "Epoch 1/50\n",
      "60000/60000 [==============================] - 2s 42us/step - loss: 0.2805 - val_loss: 0.1926\n",
      "Epoch 2/50\n",
      "60000/60000 [==============================] - 2s 42us/step - loss: 0.1725 - val_loss: 0.1546\n",
      "Epoch 3/50\n",
      "60000/60000 [==============================] - 2s 37us/step - loss: 0.1436 - val_loss: 0.1323\n",
      "Epoch 4/50\n",
      "60000/60000 [==============================] - 2s 35us/step - loss: 0.1269 - val_loss: 0.1194\n",
      "Epoch 5/50\n",
      "60000/60000 [==============================] - 2s 36us/step - loss: 0.1162 - val_loss: 0.1106\n",
      "Epoch 6/50\n",
      "60000/60000 [==============================] - 2s 37us/step - loss: 0.1087 - val_loss: 0.1044\n",
      "Epoch 7/50\n",
      "60000/60000 [==============================] - 2s 39us/step - loss: 0.1036 - val_loss: 0.1003\n",
      "Epoch 8/50\n",
      "60000/60000 [==============================] - 2s 39us/step - loss: 0.1002 - val_loss: 0.0976\n",
      "Epoch 9/50\n",
      "60000/60000 [==============================] - 2s 37us/step - loss: 0.0981 - val_loss: 0.0958\n",
      "Epoch 10/50\n",
      "60000/60000 [==============================] - 2s 34us/step - loss: 0.0966 - val_loss: 0.0946\n",
      "Epoch 11/50\n",
      "60000/60000 [==============================] - 2s 36us/step - loss: 0.0957 - val_loss: 0.0939\n",
      "Epoch 12/50\n",
      "60000/60000 [==============================] - 2s 35us/step - loss: 0.0950 - val_loss: 0.0935\n",
      "Epoch 13/50\n",
      "60000/60000 [==============================] - 2s 36us/step - loss: 0.0946 - val_loss: 0.0932\n",
      "Epoch 14/50\n",
      "60000/60000 [==============================] - 2s 35us/step - loss: 0.0943 - val_loss: 0.0929\n",
      "Epoch 15/50\n",
      "60000/60000 [==============================] - 2s 38us/step - loss: 0.0941 - val_loss: 0.0927\n",
      "Epoch 16/50\n",
      "60000/60000 [==============================] - 2s 35us/step - loss: 0.0939 - val_loss: 0.0926\n",
      "Epoch 17/50\n",
      "60000/60000 [==============================] - 2s 33us/step - loss: 0.0938 - val_loss: 0.0925\n",
      "Epoch 18/50\n",
      "60000/60000 [==============================] - 2s 32us/step - loss: 0.0937 - val_loss: 0.0924\n",
      "Epoch 19/50\n",
      "60000/60000 [==============================] - 2s 32us/step - loss: 0.0936 - val_loss: 0.0922\n",
      "Epoch 20/50\n",
      "60000/60000 [==============================] - 2s 35us/step - loss: 0.0935 - val_loss: 0.0922\n",
      "Epoch 21/50\n",
      "60000/60000 [==============================] - 2s 33us/step - loss: 0.0934 - val_loss: 0.0921\n",
      "Epoch 22/50\n",
      "60000/60000 [==============================] - 2s 32us/step - loss: 0.0933 - val_loss: 0.0921\n",
      "Epoch 23/50\n",
      "60000/60000 [==============================] - 2s 32us/step - loss: 0.0933 - val_loss: 0.0921\n",
      "Epoch 24/50\n",
      "60000/60000 [==============================] - 2s 32us/step - loss: 0.0932 - val_loss: 0.0920\n",
      "Epoch 25/50\n",
      "60000/60000 [==============================] - 2s 33us/step - loss: 0.0932 - val_loss: 0.0919\n",
      "Epoch 26/50\n",
      "60000/60000 [==============================] - 2s 32us/step - loss: 0.0931 - val_loss: 0.0920\n",
      "Epoch 27/50\n",
      "60000/60000 [==============================] - 2s 33us/step - loss: 0.0931 - val_loss: 0.0919\n",
      "Epoch 28/50\n",
      "60000/60000 [==============================] - 2s 32us/step - loss: 0.0931 - val_loss: 0.0920\n",
      "Epoch 29/50\n",
      "60000/60000 [==============================] - 2s 32us/step - loss: 0.0930 - val_loss: 0.0919\n",
      "Epoch 30/50\n",
      "60000/60000 [==============================] - 2s 35us/step - loss: 0.0930 - val_loss: 0.0918\n",
      "Epoch 31/50\n",
      "60000/60000 [==============================] - 2s 33us/step - loss: 0.0930 - val_loss: 0.0918\n",
      "Epoch 32/50\n",
      "60000/60000 [==============================] - 2s 32us/step - loss: 0.0930 - val_loss: 0.0918\n",
      "Epoch 33/50\n",
      "60000/60000 [==============================] - 2s 32us/step - loss: 0.0929 - val_loss: 0.0918\n",
      "Epoch 34/50\n",
      "60000/60000 [==============================] - 2s 32us/step - loss: 0.0929 - val_loss: 0.0917\n",
      "Epoch 35/50\n",
      "60000/60000 [==============================] - 2s 32us/step - loss: 0.0929 - val_loss: 0.0917\n",
      "Epoch 36/50\n",
      "60000/60000 [==============================] - 2s 33us/step - loss: 0.0928 - val_loss: 0.0918\n",
      "Epoch 37/50\n",
      "60000/60000 [==============================] - 2s 36us/step - loss: 0.0928 - val_loss: 0.0917\n",
      "Epoch 38/50\n",
      "60000/60000 [==============================] - 3s 45us/step - loss: 0.0928 - val_loss: 0.0916\n",
      "Epoch 39/50\n",
      "60000/60000 [==============================] - 3s 47us/step - loss: 0.0928 - val_loss: 0.0917\n",
      "Epoch 40/50\n",
      "60000/60000 [==============================] - 3s 42us/step - loss: 0.0928 - val_loss: 0.0916\n",
      "Epoch 41/50\n",
      "60000/60000 [==============================] - 3s 45us/step - loss: 0.0928 - val_loss: 0.0917\n",
      "Epoch 42/50\n",
      "60000/60000 [==============================] - 2s 35us/step - loss: 0.0927 - val_loss: 0.0916\n",
      "Epoch 43/50\n",
      "60000/60000 [==============================] - 2s 33us/step - loss: 0.0927 - val_loss: 0.0916\n",
      "Epoch 44/50\n",
      "60000/60000 [==============================] - 2s 34us/step - loss: 0.0927 - val_loss: 0.0915\n",
      "Epoch 45/50\n",
      "60000/60000 [==============================] - 2s 35us/step - loss: 0.0927 - val_loss: 0.0916\n",
      "Epoch 46/50\n",
      "60000/60000 [==============================] - 2s 38us/step - loss: 0.0927 - val_loss: 0.0916\n",
      "Epoch 47/50\n",
      "60000/60000 [==============================] - 2s 32us/step - loss: 0.0927 - val_loss: 0.0916\n",
      "Epoch 48/50\n",
      "60000/60000 [==============================] - 2s 35us/step - loss: 0.0927 - val_loss: 0.0915\n",
      "Epoch 49/50\n",
      "60000/60000 [==============================] - 2s 36us/step - loss: 0.0926 - val_loss: 0.0915\n",
      "Epoch 50/50\n",
      "60000/60000 [==============================] - 2s 39us/step - loss: 0.0926 - val_loss: 0.0915\n"
     ]
    },
    {
     "data": {
      "text/plain": [
       "<keras.callbacks.callbacks.History at 0x215cb7fb080>"
      ]
     },
     "execution_count": 7,
     "metadata": {},
     "output_type": "execute_result"
    }
   ],
   "source": [
    "autoencoder.fit(x_train, x_train, #the x_train and y_test are the same!!\n",
    "                epochs=50,\n",
    "                batch_size=256,\n",
    "                shuffle=True,\n",
    "                validation_data=(x_test, x_test))\n"
   ]
  },
  {
   "cell_type": "markdown",
   "metadata": {},
   "source": [
    "Let's create the encoded versions and their reconstructions"
   ]
  },
  {
   "cell_type": "code",
   "execution_count": 8,
   "metadata": {},
   "outputs": [],
   "source": [
    "# Encode and decode some digits\n",
    "# Note that we take them from the *test* set\n",
    "encoded_imgs = encoder.predict(x_test)\n",
    "decoded_imgs = decoder.predict(encoded_imgs)"
   ]
  },
  {
   "cell_type": "markdown",
   "metadata": {},
   "source": [
    "Let's compare the reconstructions with the originals"
   ]
  },
  {
   "cell_type": "code",
   "execution_count": 9,
   "metadata": {},
   "outputs": [
    {
     "data": {
      "image/png": "[encoded data removed]",
      "text/plain": [
       "<Figure size 1440x288 with 20 Axes>"
      ]
     },
     "metadata": {
      "needs_background": "light"
     },
     "output_type": "display_data"
    }
   ],
   "source": [
    "# Use Matplotlib (don't ask)\n",
    "import matplotlib.pyplot as plt\n",
    "\n",
    "n = 10  # How many digits we will display\n",
    "plt.figure(figsize=(20, 4))\n",
    "for i in range(n):\n",
    "    # Display original\n",
    "    ax = plt.subplot(2, n, i + 1)\n",
    "    plt.imshow(x_test[i].reshape(28, 28))\n",
    "    plt.gray()\n",
    "    ax.get_xaxis().set_visible(False)\n",
    "    ax.get_yaxis().set_visible(False)\n",
    "\n",
    "    # Display reconstruction\n",
    "    ax = plt.subplot(2, n, i + 1 + n)\n",
    "    plt.imshow(decoded_imgs[i].reshape(28, 28))\n",
    "    plt.gray()\n",
    "    ax.get_xaxis().set_visible(False)\n",
    "    ax.get_yaxis().set_visible(False)\n",
    "plt.show()"
   ]
  },
  {
   "cell_type": "markdown",
   "metadata": {},
   "source": [
    "# Deep autoencoder"
   ]
  },
  {
   "cell_type": "code",
   "execution_count": 11,
   "metadata": {},
   "outputs": [],
   "source": [
    "input_img = keras.Input(shape=(784,)) #this stays the same\n",
    "# encoded = layers.Dense(encoding_dim, activation='relu')(input_img) (before)\n",
    "\n",
    "encoded = layers.Dense(128, activation='relu')(input_img)\n",
    "encoded = layers.Dense(64, activation='relu')(encoded)\n",
    "encoded = layers.Dense(32, activation='relu')(encoded)\n",
    "\n",
    "decoded = layers.Dense(64, activation='relu')(encoded)\n",
    "decoded = layers.Dense(128, activation='relu')(decoded)\n",
    "decoded = layers.Dense(784, activation='sigmoid')(decoded)"
   ]
  },
  {
   "cell_type": "code",
   "execution_count": 12,
   "metadata": {},
   "outputs": [
    {
     "name": "stdout",
     "output_type": "stream",
     "text": [
      "Train on 60000 samples, validate on 10000 samples\n",
      "Epoch 1/100\n",
      "60000/60000 [==============================] - 3s 54us/step - loss: 0.2407 - val_loss: 0.1630\n",
      "Epoch 2/100\n",
      "60000/60000 [==============================] - 3s 53us/step - loss: 0.1480 - val_loss: 0.1346\n",
      "Epoch 3/100\n",
      "60000/60000 [==============================] - 3s 54us/step - loss: 0.1299 - val_loss: 0.1228\n",
      "Epoch 4/100\n",
      "60000/60000 [==============================] - 3s 52us/step - loss: 0.1205 - val_loss: 0.1153\n",
      "Epoch 5/100\n",
      "60000/60000 [==============================] - 3s 53us/step - loss: 0.1147 - val_loss: 0.1109\n",
      "Epoch 6/100\n",
      "60000/60000 [==============================] - 3s 53us/step - loss: 0.1107 - val_loss: 0.1077\n",
      "Epoch 7/100\n",
      "60000/60000 [==============================] - 3s 57us/step - loss: 0.1075 - val_loss: 0.1049\n",
      "Epoch 8/100\n",
      "60000/60000 [==============================] - 3s 55us/step - loss: 0.1048 - val_loss: 0.1025\n",
      "Epoch 9/100\n",
      "60000/60000 [==============================] - 3s 56us/step - loss: 0.1027 - val_loss: 0.1011\n",
      "Epoch 10/100\n",
      "60000/60000 [==============================] - 3s 56us/step - loss: 0.1009 - val_loss: 0.0992\n",
      "Epoch 11/100\n",
      "60000/60000 [==============================] - 3s 55us/step - loss: 0.0996 - val_loss: 0.0978\n",
      "Epoch 12/100\n",
      "60000/60000 [==============================] - 3s 56us/step - loss: 0.0984 - val_loss: 0.0974\n",
      "Epoch 13/100\n",
      "60000/60000 [==============================] - 3s 57us/step - loss: 0.0972 - val_loss: 0.0958\n",
      "Epoch 14/100\n",
      "60000/60000 [==============================] - 3s 55us/step - loss: 0.0962 - val_loss: 0.0948\n",
      "Epoch 15/100\n",
      "60000/60000 [==============================] - 4s 62us/step - loss: 0.0953 - val_loss: 0.0939\n",
      "Epoch 16/100\n",
      "60000/60000 [==============================] - 4s 64us/step - loss: 0.0945 - val_loss: 0.0931\n",
      "Epoch 17/100\n",
      "60000/60000 [==============================] - 4s 72us/step - loss: 0.0937 - val_loss: 0.0924\n",
      "Epoch 18/100\n",
      "60000/60000 [==============================] - 3s 56us/step - loss: 0.0931 - val_loss: 0.0918\n",
      "Epoch 19/100\n",
      "60000/60000 [==============================] - 3s 54us/step - loss: 0.0925 - val_loss: 0.0914\n",
      "Epoch 20/100\n",
      "60000/60000 [==============================] - 3s 55us/step - loss: 0.0920 - val_loss: 0.0910\n",
      "Epoch 21/100\n",
      "60000/60000 [==============================] - 4s 59us/step - loss: 0.0915 - val_loss: 0.0905\n",
      "Epoch 22/100\n",
      "60000/60000 [==============================] - 3s 56us/step - loss: 0.0909 - val_loss: 0.0900\n",
      "Epoch 23/100\n",
      "60000/60000 [==============================] - 3s 54us/step - loss: 0.0904 - val_loss: 0.0901\n",
      "Epoch 24/100\n",
      "60000/60000 [==============================] - 3s 55us/step - loss: 0.0900 - val_loss: 0.0892\n",
      "Epoch 25/100\n",
      "60000/60000 [==============================] - 3s 55us/step - loss: 0.0895 - val_loss: 0.0885\n",
      "Epoch 26/100\n",
      "60000/60000 [==============================] - 3s 57us/step - loss: 0.0891 - val_loss: 0.0882\n",
      "Epoch 27/100\n",
      "60000/60000 [==============================] - 4s 61us/step - loss: 0.0887 - val_loss: 0.0882\n",
      "Epoch 28/100\n",
      "60000/60000 [==============================] - 4s 64us/step - loss: 0.0884 - val_loss: 0.0875\n",
      "Epoch 29/100\n",
      "60000/60000 [==============================] - 4s 63us/step - loss: 0.0881 - val_loss: 0.0876\n",
      "Epoch 30/100\n",
      "60000/60000 [==============================] - 4s 58us/step - loss: 0.0878 - val_loss: 0.0869\n",
      "Epoch 31/100\n",
      "60000/60000 [==============================] - 4s 60us/step - loss: 0.0875 - val_loss: 0.0867\n",
      "Epoch 32/100\n",
      "60000/60000 [==============================] - 4s 63us/step - loss: 0.0873 - val_loss: 0.0864\n",
      "Epoch 33/100\n",
      "60000/60000 [==============================] - 4s 61us/step - loss: 0.0871 - val_loss: 0.0865\n",
      "Epoch 34/100\n",
      "60000/60000 [==============================] - 4s 69us/step - loss: 0.0868 - val_loss: 0.0863\n",
      "Epoch 35/100\n",
      "60000/60000 [==============================] - 4s 67us/step - loss: 0.0866 - val_loss: 0.0858\n",
      "Epoch 36/100\n",
      "60000/60000 [==============================] - 4s 61us/step - loss: 0.0863 - val_loss: 0.0856\n",
      "Epoch 37/100\n",
      "60000/60000 [==============================] - 4s 59us/step - loss: 0.0861 - val_loss: 0.0854\n",
      "Epoch 38/100\n",
      "60000/60000 [==============================] - 3s 52us/step - loss: 0.0859 - val_loss: 0.0853\n",
      "Epoch 39/100\n",
      "60000/60000 [==============================] - 3s 54us/step - loss: 0.0857 - val_loss: 0.0854\n",
      "Epoch 40/100\n",
      "60000/60000 [==============================] - 3s 58us/step - loss: 0.0855 - val_loss: 0.0849\n",
      "Epoch 41/100\n",
      "60000/60000 [==============================] - 3s 55us/step - loss: 0.0854 - val_loss: 0.0848\n",
      "Epoch 42/100\n",
      "60000/60000 [==============================] - 3s 53us/step - loss: 0.0852 - val_loss: 0.0846\n",
      "Epoch 43/100\n",
      "60000/60000 [==============================] - 3s 52us/step - loss: 0.0851 - val_loss: 0.0845\n",
      "Epoch 44/100\n",
      "60000/60000 [==============================] - 3s 54us/step - loss: 0.0850 - val_loss: 0.0843\n",
      "Epoch 45/100\n",
      "60000/60000 [==============================] - 3s 54us/step - loss: 0.0848 - val_loss: 0.0844\n",
      "Epoch 46/100\n",
      "60000/60000 [==============================] - 3s 57us/step - loss: 0.0847 - val_loss: 0.0840\n",
      "Epoch 47/100\n",
      "60000/60000 [==============================] - 3s 57us/step - loss: 0.0846 - val_loss: 0.0844\n",
      "Epoch 48/100\n",
      "60000/60000 [==============================] - 3s 54us/step - loss: 0.0845 - val_loss: 0.0840\n",
      "Epoch 49/100\n",
      "60000/60000 [==============================] - 3s 49us/step - loss: 0.0844 - val_loss: 0.0840\n",
      "Epoch 50/100\n",
      "60000/60000 [==============================] - 3s 50us/step - loss: 0.0842 - val_loss: 0.0839\n",
      "Epoch 51/100\n",
      "60000/60000 [==============================] - 3s 53us/step - loss: 0.0842 - val_loss: 0.0839\n",
      "Epoch 52/100\n",
      "60000/60000 [==============================] - 3s 52us/step - loss: 0.0841 - val_loss: 0.0841\n",
      "Epoch 53/100\n",
      "60000/60000 [==============================] - 4s 61us/step - loss: 0.0840 - val_loss: 0.0836\n",
      "Epoch 54/100\n",
      "60000/60000 [==============================] - 3s 52us/step - loss: 0.0840 - val_loss: 0.0835\n",
      "Epoch 55/100\n",
      "60000/60000 [==============================] - 3s 51us/step - loss: 0.0838 - val_loss: 0.0834\n",
      "Epoch 56/100\n",
      "60000/60000 [==============================] - 3s 51us/step - loss: 0.0838 - val_loss: 0.0833\n",
      "Epoch 57/100\n",
      "60000/60000 [==============================] - 3s 53us/step - loss: 0.0837 - val_loss: 0.0835\n",
      "Epoch 58/100\n",
      "60000/60000 [==============================] - 3s 55us/step - loss: 0.0837 - val_loss: 0.0835\n",
      "Epoch 59/100\n",
      "60000/60000 [==============================] - 3s 52us/step - loss: 0.0836 - val_loss: 0.0831\n",
      "Epoch 60/100\n",
      "60000/60000 [==============================] - 3s 51us/step - loss: 0.0835 - val_loss: 0.0831\n",
      "Epoch 61/100\n",
      "60000/60000 [==============================] - 3s 52us/step - loss: 0.0834 - val_loss: 0.0833\n",
      "Epoch 62/100\n",
      "60000/60000 [==============================] - 3s 52us/step - loss: 0.0834 - val_loss: 0.0832\n",
      "Epoch 63/100\n",
      "60000/60000 [==============================] - 3s 51us/step - loss: 0.0833 - val_loss: 0.0833\n",
      "Epoch 64/100\n",
      "60000/60000 [==============================] - 3s 51us/step - loss: 0.0833 - val_loss: 0.0831\n",
      "Epoch 65/100\n",
      "60000/60000 [==============================] - 3s 58us/step - loss: 0.0832 - val_loss: 0.0830\n",
      "Epoch 66/100\n",
      "60000/60000 [==============================] - 3s 52us/step - loss: 0.0832 - val_loss: 0.0830\n",
      "Epoch 67/100\n",
      "60000/60000 [==============================] - 3s 53us/step - loss: 0.0831 - val_loss: 0.0828: 0.\n",
      "Epoch 68/100\n",
      "60000/60000 [==============================] - 3s 56us/step - loss: 0.0830 - val_loss: 0.0828\n",
      "Epoch 69/100\n",
      "60000/60000 [==============================] - 4s 60us/step - loss: 0.0830 - val_loss: 0.0828\n",
      "Epoch 70/100\n",
      "60000/60000 [==============================] - 3s 56us/step - loss: 0.0830 - val_loss: 0.0825\n",
      "Epoch 71/100\n",
      "60000/60000 [==============================] - 4s 61us/step - loss: 0.0829 - val_loss: 0.0828\n",
      "Epoch 72/100\n",
      "60000/60000 [==============================] - 5s 76us/step - loss: 0.0828 - val_loss: 0.0825\n",
      "Epoch 73/100\n",
      "60000/60000 [==============================] - 4s 69us/step - loss: 0.0828 - val_loss: 0.0823\n",
      "Epoch 74/100\n",
      "60000/60000 [==============================] - 3s 57us/step - loss: 0.0827 - val_loss: 0.0826\n",
      "Epoch 75/100\n",
      "60000/60000 [==============================] - 3s 53us/step - loss: 0.0827 - val_loss: 0.0828\n",
      "Epoch 76/100\n",
      "60000/60000 [==============================] - 4s 62us/step - loss: 0.0827 - val_loss: 0.0825\n",
      "Epoch 77/100\n"
     ]
    },
    {
     "name": "stdout",
     "output_type": "stream",
     "text": [
      "60000/60000 [==============================] - 4s 72us/step - loss: 0.0826 - val_loss: 0.0822\n",
      "Epoch 78/100\n",
      "60000/60000 [==============================] - 4s 64us/step - loss: 0.0826 - val_loss: 0.0825\n",
      "Epoch 79/100\n",
      "60000/60000 [==============================] - 4s 67us/step - loss: 0.0826 - val_loss: 0.0825\n",
      "Epoch 80/100\n",
      "60000/60000 [==============================] - 3s 57us/step - loss: 0.0825 - val_loss: 0.0822\n",
      "Epoch 81/100\n",
      "60000/60000 [==============================] - 3s 56us/step - loss: 0.0824 - val_loss: 0.0823\n",
      "Epoch 82/100\n",
      "60000/60000 [==============================] - 3s 58us/step - loss: 0.0824 - val_loss: 0.0820\n",
      "Epoch 83/100\n",
      "60000/60000 [==============================] - 3s 56us/step - loss: 0.0824 - val_loss: 0.0822\n",
      "Epoch 84/100\n",
      "60000/60000 [==============================] - 3s 55us/step - loss: 0.0823 - val_loss: 0.0821\n",
      "Epoch 85/100\n",
      "60000/60000 [==============================] - 3s 57us/step - loss: 0.0823 - val_loss: 0.0821\n",
      "Epoch 86/100\n",
      "60000/60000 [==============================] - 4s 69us/step - loss: 0.0823 - val_loss: 0.0820\n",
      "Epoch 87/100\n",
      "60000/60000 [==============================] - 4s 66us/step - loss: 0.0822 - val_loss: 0.0821\n",
      "Epoch 88/100\n",
      "60000/60000 [==============================] - 4s 65us/step - loss: 0.0822 - val_loss: 0.0822- ETA: 0s - loss: 0\n",
      "Epoch 89/100\n",
      "60000/60000 [==============================] - 3s 56us/step - loss: 0.0822 - val_loss: 0.0821\n",
      "Epoch 90/100\n",
      "60000/60000 [==============================] - 3s 55us/step - loss: 0.0822 - val_loss: 0.0820\n",
      "Epoch 91/100\n",
      "60000/60000 [==============================] - 3s 53us/step - loss: 0.0821 - val_loss: 0.0821\n",
      "Epoch 92/100\n",
      "60000/60000 [==============================] - 3s 53us/step - loss: 0.0821 - val_loss: 0.0819\n",
      "Epoch 93/100\n",
      "60000/60000 [==============================] - 3s 53us/step - loss: 0.0820 - val_loss: 0.0822\n",
      "Epoch 94/100\n",
      "60000/60000 [==============================] - 3s 53us/step - loss: 0.0820 - val_loss: 0.0818\n",
      "Epoch 95/100\n",
      "60000/60000 [==============================] - 3s 52us/step - loss: 0.0820 - val_loss: 0.0819\n",
      "Epoch 96/100\n",
      "60000/60000 [==============================] - 3s 53us/step - loss: 0.0820 - val_loss: 0.0818\n",
      "Epoch 97/100\n",
      "60000/60000 [==============================] - 3s 57us/step - loss: 0.0819 - val_loss: 0.0817\n",
      "Epoch 98/100\n",
      "60000/60000 [==============================] - 3s 53us/step - loss: 0.0819 - val_loss: 0.0820\n",
      "Epoch 99/100\n",
      "60000/60000 [==============================] - 3s 56us/step - loss: 0.0819 - val_loss: 0.0820\n",
      "Epoch 100/100\n",
      "60000/60000 [==============================] - 3s 57us/step - loss: 0.0819 - val_loss: 0.0817\n"
     ]
    },
    {
     "data": {
      "text/plain": [
       "<keras.callbacks.callbacks.History at 0x215d35815c0>"
      ]
     },
     "execution_count": 12,
     "metadata": {},
     "output_type": "execute_result"
    }
   ],
   "source": [
    "autoencoder = keras.Model(input_img, decoded)\n",
    "autoencoder.compile(optimizer='adam', loss='binary_crossentropy')\n",
    "\n",
    "autoencoder.fit(x_train, x_train,\n",
    "                epochs=100,\n",
    "                batch_size=256,\n",
    "                shuffle=True,\n",
    "                validation_data=(x_test, x_test))"
   ]
  },
  {
   "cell_type": "code",
   "execution_count": 20,
   "metadata": {},
   "outputs": [],
   "source": [
    "encoder = keras.Model(input_img, encoded)\n",
    "encoded_input = keras.Input(shape=(encoding_dim,))\n",
    "\n",
    "# retrieve the decoder layers and apply to each prev layer\n",
    "num_decoder_layers = 3\n",
    "decoder_layer = encoded_input\n",
    "for i in range(-num_decoder_layers, 0):\n",
    "    decoder_layer = autoencoder.layers[i](decoder_layer)\n",
    "\n",
    "# create the decoder model\n",
    "decoder = keras.Model(encoded_input, decoder_layer)\n"
   ]
  },
  {
   "cell_type": "code",
   "execution_count": 21,
   "metadata": {},
   "outputs": [],
   "source": [
    "encoded_imgs = encoder.predict(x_test)\n",
    "decoded_imgs = decoder.predict(encoded_imgs)"
   ]
  },
  {
   "cell_type": "code",
   "execution_count": 22,
   "metadata": {},
   "outputs": [
    {
     "data": {
      "image/png": "[encoded data removed]",
      "text/plain": [
       "<Figure size 1440x288 with 20 Axes>"
      ]
     },
     "metadata": {
      "needs_background": "light"
     },
     "output_type": "display_data"
    }
   ],
   "source": [
    "# Use Matplotlib (don't ask)\n",
    "import matplotlib.pyplot as plt\n",
    "\n",
    "n = 10  # How many digits we will display\n",
    "plt.figure(figsize=(20, 4))\n",
    "for i in range(n):\n",
    "    # Display original\n",
    "    ax = plt.subplot(2, n, i + 1)\n",
    "    plt.imshow(x_test[i].reshape(28, 28))\n",
    "    plt.gray()\n",
    "    ax.get_xaxis().set_visible(False)\n",
    "    ax.get_yaxis().set_visible(False)\n",
    "\n",
    "    # Display reconstruction\n",
    "    ax = plt.subplot(2, n, i + 1 + n)\n",
    "    plt.imshow(decoded_imgs[i].reshape(28, 28))\n",
    "    plt.gray()\n",
    "    ax.get_xaxis().set_visible(False)\n",
    "    ax.get_yaxis().set_visible(False)\n",
    "plt.show()"
   ]
  },
  {
   "cell_type": "markdown",
   "metadata": {},
   "source": [
    "# Convolutional autoencoder\n",
    "Since our inputs are images, it makes sense to use convolutional neural networks (convnets) as encoders and decoders. In practical settings, autoencoders applied to images are always convolutional autoencoders --they simply perform much better.\n",
    "\n",
    "Let's implement one. The encoder will consist in a stack of Conv2D and MaxPooling2D layers (max pooling being used for spatial down-sampling), while the decoder will consist in a stack of Conv2D and UpSampling2D layers."
   ]
  },
  {
   "cell_type": "code",
   "execution_count": 23,
   "metadata": {},
   "outputs": [],
   "source": [
    "from keras import layers\n",
    "\n",
    "input_img = keras.Input(shape=(28, 28, 1))\n",
    "\n",
    "x = layers.Conv2D(16, (3, 3), activation='relu', padding='same')(input_img)\n",
    "x = layers.MaxPooling2D((2, 2), padding='same')(x)\n",
    "x = layers.Conv2D(8, (3, 3), activation='relu', padding='same')(x)\n",
    "x = layers.MaxPooling2D((2, 2), padding='same')(x)\n",
    "x = layers.Conv2D(8, (3, 3), activation='relu', padding='same')(x)\n",
    "encoded = layers.MaxPooling2D((2, 2), padding='same')(x)\n",
    "\n",
    "# at this point the representation is (4, 4, 8) i.e. 128-dimensional\n",
    "\n",
    "x = layers.Conv2D(8, (3, 3), activation='relu', padding='same')(encoded)\n",
    "x = layers.UpSampling2D((2, 2))(x)\n",
    "x = layers.Conv2D(8, (3, 3), activation='relu', padding='same')(x)\n",
    "x = layers.UpSampling2D((2, 2))(x)\n",
    "x = layers.Conv2D(16, (3, 3), activation='relu')(x)\n",
    "x = layers.UpSampling2D((2, 2))(x)\n",
    "decoded = layers.Conv2D(1, (3, 3), activation='sigmoid', padding='same')(x)\n",
    "\n",
    "autoencoder = keras.Model(input_img, decoded)\n",
    "autoencoder.compile(optimizer='adam', loss='binary_crossentropy')"
   ]
  },
  {
   "cell_type": "code",
   "execution_count": 24,
   "metadata": {},
   "outputs": [],
   "source": [
    "from keras.datasets import mnist\n",
    "import numpy as np\n",
    "\n",
    "(x_train, _), (x_test, _) = mnist.load_data()\n",
    "\n",
    "x_train = x_train.astype('float32') / 255.\n",
    "x_test = x_test.astype('float32') / 255.\n",
    "x_train = np.reshape(x_train, (len(x_train), 28, 28, 1))\n",
    "x_test = np.reshape(x_test, (len(x_test), 28, 28, 1))"
   ]
  },
  {
   "cell_type": "markdown",
   "metadata": {},
   "source": [
    "First, let's open up a terminal and start a TensorBoard server that will read logs stored at /tmp/autoencoder.\n",
    "\n",
    "tensorboard --logdir=/tmp/autoencoder\n",
    "\n"
   ]
  },
  {
   "cell_type": "code",
   "execution_count": 27,
   "metadata": {},
   "outputs": [
    {
     "name": "stderr",
     "output_type": "stream",
     "text": [
      "\"--logdir\" no se reconoce como un comando interno o externo,\n",
      "programa o archivo por lotes ejecutable.\n"
     ]
    }
   ],
   "source": [
    "! --logdir=/tmp/autoencoder"
   ]
  },
  {
   "cell_type": "code",
   "execution_count": 28,
   "metadata": {},
   "outputs": [
    {
     "name": "stdout",
     "output_type": "stream",
     "text": [
      "Train on 60000 samples, validate on 10000 samples\n",
      "Epoch 1/50\n",
      "60000/60000 [==============================] - 106s 2ms/step - loss: 0.2240 - val_loss: 0.1424\n",
      "Epoch 2/50\n",
      "60000/60000 [==============================] - 91s 2ms/step - loss: 0.1323 - val_loss: 0.1235\n",
      "Epoch 3/50\n",
      "60000/60000 [==============================] - 88s 1ms/step - loss: 0.1205 - val_loss: 0.1160\n",
      "Epoch 4/50\n",
      "60000/60000 [==============================] - 89s 1ms/step - loss: 0.1149 - val_loss: 0.1118\n",
      "Epoch 5/50\n",
      "60000/60000 [==============================] - 88s 1ms/step - loss: 0.1115 - val_loss: 0.1091\n",
      "Epoch 6/50\n",
      "60000/60000 [==============================] - 89s 1ms/step - loss: 0.1092 - val_loss: 0.1071\n",
      "Epoch 7/50\n",
      "60000/60000 [==============================] - 88s 1ms/step - loss: 0.1073 - val_loss: 0.1054\n",
      "Epoch 8/50\n",
      "60000/60000 [==============================] - 91s 2ms/step - loss: 0.1059 - val_loss: 0.1045\n",
      "Epoch 9/50\n",
      "60000/60000 [==============================] - 86s 1ms/step - loss: 0.1047 - val_loss: 0.1030\n",
      "Epoch 10/50\n",
      "60000/60000 [==============================] - 84s 1ms/step - loss: 0.1037 - val_loss: 0.1021\n",
      "Epoch 11/50\n",
      "60000/60000 [==============================] - 85s 1ms/step - loss: 0.1028 - val_loss: 0.1015\n",
      "Epoch 12/50\n",
      "60000/60000 [==============================] - 87s 1ms/step - loss: 0.1020 - val_loss: 0.1006\n",
      "Epoch 13/50\n",
      "60000/60000 [==============================] - 85s 1ms/step - loss: 0.1014 - val_loss: 0.0999\n",
      "Epoch 14/50\n",
      "60000/60000 [==============================] - 86s 1ms/step - loss: 0.1008 - val_loss: 0.0993 - loss: 0.100\n",
      "Epoch 15/50\n",
      "60000/60000 [==============================] - 84s 1ms/step - loss: 0.1002 - val_loss: 0.0995\n",
      "Epoch 16/50\n",
      "60000/60000 [==============================] - 87s 1ms/step - loss: 0.0997 - val_loss: 0.0983\n",
      "Epoch 17/50\n",
      "60000/60000 [==============================] - 95s 2ms/step - loss: 0.0993 - val_loss: 0.0980\n",
      "Epoch 18/50\n",
      "60000/60000 [==============================] - 87s 1ms/step - loss: 0.0988 - val_loss: 0.0976\n",
      "Epoch 19/50\n",
      "60000/60000 [==============================] - 97s 2ms/step - loss: 0.0985 - val_loss: 0.0976\n",
      "Epoch 20/50\n",
      "60000/60000 [==============================] - 92s 2ms/step - loss: 0.0981 - val_loss: 0.0977\n",
      "Epoch 21/50\n",
      "60000/60000 [==============================] - 84s 1ms/step - loss: 0.0977 - val_loss: 0.0964\n",
      "Epoch 22/50\n",
      "60000/60000 [==============================] - 85s 1ms/step - loss: 0.0974 - val_loss: 0.0962\n",
      "Epoch 23/50\n",
      "60000/60000 [==============================] - 86s 1ms/step - loss: 0.0970 - val_loss: 0.0956\n",
      "Epoch 24/50\n",
      "60000/60000 [==============================] - 82s 1ms/step - loss: 0.0968 - val_loss: 0.0955\n",
      "Epoch 25/50\n",
      "60000/60000 [==============================] - 83s 1ms/step - loss: 0.0965 - val_loss: 0.0952\n",
      "Epoch 26/50\n",
      "60000/60000 [==============================] - 91s 2ms/step - loss: 0.0962 - val_loss: 0.0953\n",
      "Epoch 27/50\n",
      "60000/60000 [==============================] - 99s 2ms/step - loss: 0.0959 - val_loss: 0.0959\n",
      "Epoch 28/50\n",
      "60000/60000 [==============================] - 93s 2ms/step - loss: 0.0957 - val_loss: 0.0948\n",
      "Epoch 29/50\n",
      "60000/60000 [==============================] - 94s 2ms/step - loss: 0.0954 - val_loss: 0.0940\n",
      "Epoch 30/50\n",
      "60000/60000 [==============================] - 89s 1ms/step - loss: 0.0952 - val_loss: 0.0945\n",
      "Epoch 31/50\n",
      "60000/60000 [==============================] - 87s 1ms/step - loss: 0.0950 - val_loss: 0.0937\n",
      "Epoch 32/50\n",
      "60000/60000 [==============================] - 95s 2ms/step - loss: 0.0948 - val_loss: 0.0936\n",
      "Epoch 33/50\n",
      "60000/60000 [==============================] - 102s 2ms/step - loss: 0.0945 - val_loss: 0.0933\n",
      "Epoch 34/50\n",
      "60000/60000 [==============================] - 86s 1ms/step - loss: 0.0943 - val_loss: 0.0930\n",
      "Epoch 35/50\n",
      "60000/60000 [==============================] - 92s 2ms/step - loss: 0.0942 - val_loss: 0.0930\n",
      "Epoch 36/50\n",
      "60000/60000 [==============================] - 98s 2ms/step - loss: 0.0940 - val_loss: 0.0926\n",
      "Epoch 37/50\n",
      "60000/60000 [==============================] - 86s 1ms/step - loss: 0.0938 - val_loss: 0.0925\n",
      "Epoch 38/50\n",
      "60000/60000 [==============================] - 86s 1ms/step - loss: 0.0936 - val_loss: 0.0925\n",
      "Epoch 39/50\n",
      "60000/60000 [==============================] - 85s 1ms/step - loss: 0.0934 - val_loss: 0.0921\n",
      "Epoch 40/50\n",
      "60000/60000 [==============================] - 87s 1ms/step - loss: 0.0933 - val_loss: 0.0919\n",
      "Epoch 41/50\n",
      "60000/60000 [==============================] - 85s 1ms/step - loss: 0.0931 - val_loss: 0.0921\n",
      "Epoch 42/50\n",
      "60000/60000 [==============================] - 87s 1ms/step - loss: 0.0929 - val_loss: 0.0916\n",
      "Epoch 43/50\n",
      "60000/60000 [==============================] - 94s 2ms/step - loss: 0.0928 - val_loss: 0.0914\n",
      "Epoch 44/50\n",
      "60000/60000 [==============================] - 86s 1ms/step - loss: 0.0925 - val_loss: 0.0913\n",
      "Epoch 45/50\n",
      "60000/60000 [==============================] - 87s 1ms/step - loss: 0.0924 - val_loss: 0.0913\n",
      "Epoch 46/50\n",
      "60000/60000 [==============================] - 95s 2ms/step - loss: 0.0922 - val_loss: 0.0912\n",
      "Epoch 47/50\n",
      "60000/60000 [==============================] - 90s 2ms/step - loss: 0.0921 - val_loss: 0.0910\n",
      "Epoch 48/50\n",
      "60000/60000 [==============================] - 96s 2ms/step - loss: 0.0919 - val_loss: 0.0907\n",
      "Epoch 49/50\n",
      "60000/60000 [==============================] - 87s 1ms/step - loss: 0.0918 - val_loss: 0.0907\n",
      "Epoch 50/50\n",
      "60000/60000 [==============================] - 85s 1ms/step - loss: 0.0917 - val_loss: 0.0905\n"
     ]
    },
    {
     "data": {
      "text/plain": [
       "<keras.callbacks.callbacks.History at 0x215cdbf2240>"
      ]
     },
     "execution_count": 28,
     "metadata": {},
     "output_type": "execute_result"
    }
   ],
   "source": [
    "from keras.callbacks import TensorBoard\n",
    "\n",
    "autoencoder.fit(x_train, x_train,\n",
    "                epochs=50,\n",
    "                batch_size=128,\n",
    "                shuffle=True,\n",
    "                validation_data=(x_test, x_test))\n",
    "                #callbacks=[TensorBoard(log_dir='/tmp/autoencoder')])"
   ]
  },
  {
   "cell_type": "code",
   "execution_count": 29,
   "metadata": {},
   "outputs": [
    {
     "data": {
      "image/png": "[encoded data removed]",
      "text/plain": [
       "<Figure size 1440x288 with 20 Axes>"
      ]
     },
     "metadata": {
      "needs_background": "light"
     },
     "output_type": "display_data"
    }
   ],
   "source": [
    "#Let's take a look at the reconstructed digits:\n",
    "decoded_imgs = autoencoder.predict(x_test)\n",
    "\n",
    "n = 10\n",
    "plt.figure(figsize=(20, 4))\n",
    "for i in range(1, n + 1):\n",
    "    # Display original\n",
    "    ax = plt.subplot(2, n, i)\n",
    "    plt.imshow(x_test[i].reshape(28, 28))\n",
    "    plt.gray()\n",
    "    ax.get_xaxis().set_visible(False)\n",
    "    ax.get_yaxis().set_visible(False)\n",
    "\n",
    "    # Display reconstruction\n",
    "    ax = plt.subplot(2, n, i + n)\n",
    "    plt.imshow(decoded_imgs[i].reshape(28, 28))\n",
    "    plt.gray()\n",
    "    ax.get_xaxis().set_visible(False)\n",
    "    ax.get_yaxis().set_visible(False)\n",
    "plt.show()"
   ]
  },
  {
   "cell_type": "markdown",
   "metadata": {},
   "source": [
    "We can also have a look at the 128-dimensional encoded representations. These representations are 8x4x4, so we reshape them to 4x32 in order to be able to display them as grayscale images."
   ]
  },
  {
   "cell_type": "code",
   "execution_count": 30,
   "metadata": {},
   "outputs": [
    {
     "data": {
      "image/png": "[encoded data removed]",
      "text/plain": [
       "<Figure size 1440x576 with 10 Axes>"
      ]
     },
     "metadata": {
      "needs_background": "light"
     },
     "output_type": "display_data"
    }
   ],
   "source": [
    "encoder = keras.Model(input_img, encoded)\n",
    "encoded_imgs = encoder.predict(x_test)\n",
    "\n",
    "n = 10\n",
    "plt.figure(figsize=(20, 8))\n",
    "for i in range(1, n + 1):\n",
    "    ax = plt.subplot(1, n, i)\n",
    "    plt.imshow(encoded_imgs[i].reshape((4, 4 * 8)).T)\n",
    "    plt.gray()\n",
    "    ax.get_xaxis().set_visible(False)\n",
    "    ax.get_yaxis().set_visible(False)\n",
    "plt.show()"
   ]
  },
  {
   "cell_type": "markdown",
   "metadata": {},
   "source": [
    "# Application to image denoising\n",
    "Let's put our convolutional autoencoder to work on an image denoising problem. It's simple: we will train the autoencoder to map noisy digits images to clean digits images.\n",
    "\n",
    "Here's how we will generate synthetic noisy digits: we just apply a gaussian noise matrix and clip the images between 0 and 1."
   ]
  },
  {
   "cell_type": "code",
   "execution_count": 31,
   "metadata": {},
   "outputs": [],
   "source": [
    "from keras.datasets import mnist\n",
    "import numpy as np\n",
    "\n",
    "(x_train, _), (x_test, _) = mnist.load_data()\n",
    "\n",
    "x_train = x_train.astype('float32') / 255.\n",
    "x_test = x_test.astype('float32') / 255.\n",
    "x_train = np.reshape(x_train, (len(x_train), 28, 28, 1))\n",
    "x_test = np.reshape(x_test, (len(x_test), 28, 28, 1))\n",
    "\n",
    "noise_factor = 0.5\n",
    "x_train_noisy = x_train + noise_factor * np.random.normal(loc=0.0, scale=1.0, size=x_train.shape) \n",
    "x_test_noisy = x_test + noise_factor * np.random.normal(loc=0.0, scale=1.0, size=x_test.shape) \n",
    "\n",
    "x_train_noisy = np.clip(x_train_noisy, 0., 1.)\n",
    "x_test_noisy = np.clip(x_test_noisy, 0., 1.)"
   ]
  },
  {
   "cell_type": "markdown",
   "metadata": {},
   "source": [
    "Here's what the noisy digits look like:\n",
    "\n"
   ]
  },
  {
   "cell_type": "code",
   "execution_count": 32,
   "metadata": {},
   "outputs": [
    {
     "data": {
      "image/png": "[encoded data removed]",
      "text/plain": [
       "<Figure size 1440x144 with 10 Axes>"
      ]
     },
     "metadata": {
      "needs_background": "light"
     },
     "output_type": "display_data"
    }
   ],
   "source": [
    "n = 10\n",
    "plt.figure(figsize=(20, 2))\n",
    "for i in range(1, n + 1):\n",
    "    ax = plt.subplot(1, n, i)\n",
    "    plt.imshow(x_test_noisy[i].reshape(28, 28))\n",
    "    plt.gray()\n",
    "    ax.get_xaxis().set_visible(False)\n",
    "    ax.get_yaxis().set_visible(False)\n",
    "plt.show()"
   ]
  },
  {
   "cell_type": "code",
   "execution_count": 34,
   "metadata": {},
   "outputs": [],
   "source": [
    "input_img = keras.Input(shape=(28, 28, 1))\n",
    "\n",
    "x = layers.Conv2D(32, (3, 3), activation='relu', padding='same')(input_img)\n",
    "x = layers.MaxPooling2D((2, 2), padding='same')(x)\n",
    "x = layers.Conv2D(32, (3, 3), activation='relu', padding='same')(x)\n",
    "encoded = layers.MaxPooling2D((2, 2), padding='same')(x)\n",
    "\n",
    "# At this point the representation is (7, 7, 32)\n",
    "\n",
    "x = layers.Conv2D(32, (3, 3), activation='relu', padding='same')(encoded)\n",
    "x = layers.UpSampling2D((2, 2))(x)\n",
    "x = layers.Conv2D(32, (3, 3), activation='relu', padding='same')(x)\n",
    "x = layers.UpSampling2D((2, 2))(x)\n",
    "decoded = layers.Conv2D(1, (3, 3), activation='sigmoid', padding='same')(x)\n",
    "\n",
    "autoencoder = keras.Model(input_img, decoded)\n",
    "autoencoder.compile(optimizer='adam', loss='binary_crossentropy')"
   ]
  },
  {
   "cell_type": "markdown",
   "metadata": {},
   "source": [
    "Compared to the previous convolutional autoencoder, in order to improve the quality of the reconstructed, we'll use a slightly different model with more filters per layer:"
   ]
  },
  {
   "cell_type": "code",
   "execution_count": null,
   "metadata": {},
   "outputs": [
    {
     "name": "stdout",
     "output_type": "stream",
     "text": [
      "Train on 60000 samples, validate on 10000 samples\n",
      "Epoch 1/100\n",
      "50560/60000 [========================>.....] - ETA: 25s - loss: 0.1645"
     ]
    }
   ],
   "source": [
    "autoencoder.fit(x_train_noisy, x_train,\n",
    "                epochs=100,\n",
    "                batch_size=128,\n",
    "                shuffle=True,\n",
    "                validation_data=(x_test_noisy, x_test))\n",
    "                #callbacks=[TensorBoard(log_dir='/tmp/tb', histogram_freq=0, write_graph=False)])"
   ]
  }
 ],
 "metadata": {
  "kernelspec": {
   "display_name": "Python 3",
   "language": "python",
   "name": "python3"
  },
  "language_info": {
   "codemirror_mode": {
    "name": "ipython",
    "version": 3
   },
   "file_extension": ".py",
   "mimetype": "text/x-python",
   "name": "python",
   "nbconvert_exporter": "python",
   "pygments_lexer": "ipython3",
   "version": "3.6.10"
  }
 },
 "nbformat": 4,
 "nbformat_minor": 4
}
